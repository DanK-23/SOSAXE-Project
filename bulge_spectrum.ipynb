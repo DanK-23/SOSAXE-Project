{
 "cells": [
  {
   "cell_type": "code",
   "execution_count": 4,
   "id": "f0f4ec69-8920-4525-83c4-be6d2a847cab",
   "metadata": {},
   "outputs": [
    {
     "name": "stdout",
     "output_type": "stream",
     "text": [
      "/work/pi_wqd_umass_edu/pyxsim\n"
     ]
    }
   ],
   "source": [
    "%cd /work/pi_wqd_umass_edu/pyxsim"
   ]
  },
  {
   "cell_type": "code",
   "execution_count": 5,
   "id": "dbd84f87-0a3e-4327-8227-448f9a17866e",
   "metadata": {},
   "outputs": [],
   "source": [
    "import yt\n",
    "import pyxsim\n",
    "import re\n",
    "import struct\n",
    "import sys\n",
    "import warnings\n",
    "from io import open\n",
    "import h5py\n",
    "import astropy\n",
    "from matplotlib.colors import LogNorm\n",
    "from astropy.wcs import WCS\n",
    "from astropy.io import fits\n",
    "from scipy.ndimage import rotate\n",
    "from astropy import wcs\n",
    "import astropy.units as u\n",
    "from pprint import pprint"
   ]
  },
  {
   "cell_type": "code",
   "execution_count": 6,
   "id": "acd885d5-a058-4238-900f-72335ede0d02",
   "metadata": {},
   "outputs": [],
   "source": [
    "import numpy as np\n",
    "import matplotlib.pyplot as plt\n",
    "import astropy.io.fits as pyfits\n",
    "import matplotlib\n",
    "import soxs\n",
    "matplotlib.rc('font', size = 18)"
   ]
  },
  {
   "cell_type": "code",
   "execution_count": 72,
   "id": "4db16588-cf01-4e95-ac7f-df8fa14cb8b9",
   "metadata": {},
   "outputs": [],
   "source": [
    "from yt.units import pc, mp"
   ]
  },
  {
   "cell_type": "code",
   "execution_count": 32,
   "id": "3db9897a-6116-49ad-af57-5d52a530db69",
   "metadata": {},
   "outputs": [],
   "source": [
    "M_NSC = 6.1e7\n",
    "q = .73\n",
    "a = 147.6\n",
    "a_0 = 147.6\n",
    "y = .71\n",
    "R = 1"
   ]
  },
  {
   "cell_type": "code",
   "execution_count": 33,
   "id": "aa52dd0c-e085-46f2-bbc4-e091168b3481",
   "metadata": {},
   "outputs": [],
   "source": [
    "def density_function(M_NSC, q, a_0, a,y):\n",
    "    density = ((3-y)*M_NSC / (4 * np.pi * q)) * (a_0 / a**y*(a+a_0)**(4-y))\n",
    "    return density"
   ]
  },
  {
   "cell_type": "code",
   "execution_count": 34,
   "id": "5202cf3e-398f-4969-912f-49d81b4bb342",
   "metadata": {},
   "outputs": [],
   "source": [
    "grid_size = (128,128,128)\n",
    "x = np.linspace(-1, 1, grid_size[0])\n",
    "y = np.linspace(-1, 1, grid_size[1])\n",
    "z = np.linspace(-1, 1, grid_size[2])\n",
    "X, Y, Z = np.meshgrid(x, y, z, indexing='ij')\n",
    "r = np.sqrt(x**2 + y**2 + z**2)"
   ]
  },
  {
   "cell_type": "code",
   "execution_count": 35,
   "id": "4e91b529-7979-4393-b7db-d0241235cf66",
   "metadata": {},
   "outputs": [],
   "source": [
    "dens = np.zeros(grid_size)\n",
    "dens[r <= R] = density\n",
    "dens[r > R] = 0.0"
   ]
  },
  {
   "cell_type": "code",
   "execution_count": 41,
   "id": "79367657-f135-4411-ae64-db45d31728d9",
   "metadata": {},
   "outputs": [
    {
     "name": "stderr",
     "output_type": "stream",
     "text": [
      "yt : [INFO     ] 2024-08-05 16:31:29,034 Parameters: current_time              = 0.0\n",
      "yt : [INFO     ] 2024-08-05 16:31:29,035 Parameters: domain_dimensions         = [128 128 128]\n",
      "yt : [INFO     ] 2024-08-05 16:31:29,035 Parameters: domain_left_edge          = [-1. -1. -1.]\n",
      "yt : [INFO     ] 2024-08-05 16:31:29,036 Parameters: domain_right_edge         = [1. 1. 1.]\n",
      "yt : [INFO     ] 2024-08-05 16:31:29,036 Parameters: cosmological_simulation   = 0\n"
     ]
    }
   ],
   "source": [
    "data = {}\n",
    "data[\"density\"] = (dens)\n",
    "data[\"velocity_x\"] = (np.zeros(grid_size))\n",
    "data[\"velocity_y\"] = (np.zeros(grid_size))\n",
    "data[\"velocity_z\"] = (np.zeros(grid_size))\n",
    "\n",
    "domain_dimensions = grid_size\n",
    "bbox = np.array([[-1, 1], [-1, 1], [-1, 1]])\n",
    "# Load the grid into yt\n",
    "ds = yt.load_uniform_grid(data, domain_dimensions, bbox=bbox,default_species_fields='ionized')"
   ]
  },
  {
   "cell_type": "code",
   "execution_count": null,
   "id": "d72878a7-7d55-4888-aa1e-60425856a4f2",
   "metadata": {},
   "outputs": [],
   "source": []
  },
  {
   "cell_type": "code",
   "execution_count": 26,
   "id": "a7c92f3b-d351-4383-b9de-63982028070d",
   "metadata": {},
   "outputs": [
    {
     "name": "stderr",
     "output_type": "stream",
     "text": [
      "yt : [INFO     ] 2024-08-05 16:01:29,450 Parameters: current_time              = 0.0\n",
      "yt : [INFO     ] 2024-08-05 16:01:29,451 Parameters: domain_dimensions         = [128 128 128]\n",
      "yt : [INFO     ] 2024-08-05 16:01:29,451 Parameters: domain_left_edge          = [-1. -1. -1.]\n",
      "yt : [INFO     ] 2024-08-05 16:01:29,452 Parameters: domain_right_edge         = [1. 1. 1.]\n",
      "yt : [INFO     ] 2024-08-05 16:01:29,453 Parameters: cosmological_simulation   = 0\n"
     ]
    },
    {
     "ename": "TypeError",
     "evalue": "'<' not supported between instances of 'tuple' and 'str'",
     "output_type": "error",
     "traceback": [
      "\u001b[0;31m---------------------------------------------------------------------------\u001b[0m",
      "\u001b[0;31mTypeError\u001b[0m                                 Traceback (most recent call last)",
      "Cell \u001b[0;32mIn[26], line 15\u001b[0m\n\u001b[1;32m     13\u001b[0m bbox \u001b[38;5;241m=\u001b[39m np\u001b[38;5;241m.\u001b[39marray([[\u001b[38;5;241m-\u001b[39m\u001b[38;5;241m1\u001b[39m, \u001b[38;5;241m1\u001b[39m], [\u001b[38;5;241m-\u001b[39m\u001b[38;5;241m1\u001b[39m, \u001b[38;5;241m1\u001b[39m], [\u001b[38;5;241m-\u001b[39m\u001b[38;5;241m1\u001b[39m, \u001b[38;5;241m1\u001b[39m]])\n\u001b[1;32m     14\u001b[0m \u001b[38;5;66;03m# Load the grid into yt\u001b[39;00m\n\u001b[0;32m---> 15\u001b[0m ds \u001b[38;5;241m=\u001b[39m \u001b[43myt\u001b[49m\u001b[38;5;241;43m.\u001b[39;49m\u001b[43mload_uniform_grid\u001b[49m\u001b[43m(\u001b[49m\u001b[43mdata\u001b[49m\u001b[43m,\u001b[49m\u001b[43m \u001b[49m\u001b[43mdomain_dimensions\u001b[49m\u001b[43m,\u001b[49m\u001b[43m \u001b[49m\u001b[43mbbox\u001b[49m\u001b[38;5;241;43m=\u001b[39;49m\u001b[43mbbox\u001b[49m\u001b[43m,\u001b[49m\u001b[43mdefault_species_fields\u001b[49m\u001b[38;5;241;43m=\u001b[39;49m\u001b[38;5;124;43m\"\u001b[39;49m\u001b[38;5;124;43mionized\u001b[39;49m\u001b[38;5;124;43m\"\u001b[39;49m\u001b[43m)\u001b[49m\n",
      "File \u001b[0;32m~/.local/lib/python3.11/site-packages/yt/loaders.py:440\u001b[0m, in \u001b[0;36mload_uniform_grid\u001b[0;34m(data, domain_dimensions, length_unit, bbox, nprocs, sim_time, mass_unit, time_unit, velocity_unit, magnetic_unit, periodicity, geometry, unit_system, default_species_fields, axis_order, cell_widths, parameters, dataset_name)\u001b[0m\n\u001b[1;32m    437\u001b[0m \u001b[38;5;66;03m# Now figure out where the particles go\u001b[39;00m\n\u001b[1;32m    438\u001b[0m \u001b[38;5;28;01mif\u001b[39;00m number_of_particles \u001b[38;5;241m>\u001b[39m \u001b[38;5;241m0\u001b[39m:\n\u001b[1;32m    439\u001b[0m     \u001b[38;5;66;03m# This will update the stream handler too\u001b[39;00m\n\u001b[0;32m--> 440\u001b[0m     \u001b[43massign_particle_data\u001b[49m\u001b[43m(\u001b[49m\u001b[43msds\u001b[49m\u001b[43m,\u001b[49m\u001b[43m \u001b[49m\u001b[43mpdata\u001b[49m\u001b[43m,\u001b[49m\u001b[43m \u001b[49m\u001b[43mbbox\u001b[49m\u001b[43m)\u001b[49m\n\u001b[1;32m    442\u001b[0m \u001b[38;5;28;01mreturn\u001b[39;00m sds\n",
      "File \u001b[0;32m~/.local/lib/python3.11/site-packages/yt/frontends/stream/definitions.py:31\u001b[0m, in \u001b[0;36massign_particle_data\u001b[0;34m(ds, pdata, bbox)\u001b[0m\n\u001b[1;32m     29\u001b[0m \u001b[38;5;28;01mif\u001b[39;00m \u001b[38;5;28mall\u001b[39m(f \u001b[38;5;129;01mnot\u001b[39;00m \u001b[38;5;129;01min\u001b[39;00m pdata \u001b[38;5;28;01mfor\u001b[39;00m f \u001b[38;5;129;01min\u001b[39;00m check_fields):\n\u001b[1;32m     30\u001b[0m     pdata_ftype \u001b[38;5;241m=\u001b[39m {}\n\u001b[0;32m---> 31\u001b[0m     \u001b[38;5;28;01mfor\u001b[39;00m f \u001b[38;5;129;01min\u001b[39;00m \u001b[38;5;28;43msorted\u001b[39;49m\u001b[43m(\u001b[49m\u001b[43mpdata\u001b[49m\u001b[43m)\u001b[49m:\n\u001b[1;32m     32\u001b[0m         \u001b[38;5;28;01mif\u001b[39;00m \u001b[38;5;129;01mnot\u001b[39;00m \u001b[38;5;28mhasattr\u001b[39m(pdata[f], \u001b[38;5;124m\"\u001b[39m\u001b[38;5;124mshape\u001b[39m\u001b[38;5;124m\"\u001b[39m):\n\u001b[1;32m     33\u001b[0m             \u001b[38;5;28;01mcontinue\u001b[39;00m\n",
      "\u001b[0;31mTypeError\u001b[0m: '<' not supported between instances of 'tuple' and 'str'"
     ]
    }
   ],
   "source": [
    "\"\"\"density = density_function(M_NSC, q, a_0, a,y)\n",
    "\n",
    "# Create a dictionary for the data\n",
    "data = {}\n",
    "data[\"density\"] = density\n",
    "#data[\"temperature\"] = (temp, \"K\")\n",
    "data[\"velocity_x\"] = np.zeros(grid_size)\n",
    "data[\"velocity_y\"] = np.zeros(grid_size)\n",
    "data[\"velocity_z\"] = np.zeros(grid_size)\n",
    "\n",
    "# Define the domain dimensions\n",
    "domain_dimensions = grid_size\n",
    "bbox = np.array([[-1, 1], [-1, 1], [-1, 1]])\n",
    "# Load the grid into yt\n",
    "ds = yt.load_uniform_grid(data, domain_dimensions, bbox=bbox,default_species_fields=\"ionized\")"
   ]
  },
  {
   "cell_type": "code",
   "execution_count": 80,
   "id": "9ad4ec1f-54a1-4741-8210-a5d41a2ddaf4",
   "metadata": {},
   "outputs": [
    {
     "ename": "SyntaxError",
     "evalue": "invalid syntax (261374430.py, line 2)",
     "output_type": "error",
     "traceback": [
      "\u001b[0;36m  Cell \u001b[0;32mIn[80], line 2\u001b[0;36m\u001b[0m\n\u001b[0;31m    r = 8.18 \"Kpc\"\u001b[0m\n\u001b[0m             ^\u001b[0m\n\u001b[0;31mSyntaxError\u001b[0m\u001b[0;31m:\u001b[0m invalid syntax\n"
     ]
    }
   ],
   "source": [
    "t = 10e7\n",
    "r = 8.18 \"Kpc\"\n",
    "r_0 = 1 \"pc\"\n",
    "a = .5"
   ]
  },
  {
   "cell_type": "code",
   "execution_count": 79,
   "id": "76fa5bb8-1c70-4ac2-b184-1bc09d39b4b1",
   "metadata": {},
   "outputs": [
    {
     "ename": "TypeError",
     "evalue": "0.025 is not a callable object",
     "output_type": "error",
     "traceback": [
      "\u001b[0;31m---------------------------------------------------------------------------\u001b[0m",
      "\u001b[0;31mTypeError\u001b[0m                                 Traceback (most recent call last)",
      "Cell \u001b[0;32mIn[79], line 1\u001b[0m\n\u001b[0;32m----> 1\u001b[0m \u001b[43mds\u001b[49m\u001b[38;5;241;43m.\u001b[39;49m\u001b[43madd_field\u001b[49m\u001b[43m(\u001b[49m\n\u001b[1;32m      2\u001b[0m \u001b[43m    \u001b[49m\u001b[43m(\u001b[49m\u001b[38;5;124;43m\"\u001b[39;49m\u001b[38;5;124;43mgas\u001b[39;49m\u001b[38;5;124;43m\"\u001b[39;49m\u001b[43m,\u001b[49m\u001b[43m \u001b[49m\u001b[38;5;124;43m\"\u001b[39;49m\u001b[38;5;124;43mtemperature\u001b[39;49m\u001b[38;5;124;43m\"\u001b[39;49m\u001b[43m)\u001b[49m\u001b[43m,\u001b[49m\n\u001b[1;32m      3\u001b[0m \u001b[43m    \u001b[49m\u001b[43mfunction\u001b[49m\u001b[38;5;241;43m=\u001b[39;49m\u001b[38;5;241;43m.025\u001b[39;49m\u001b[43m,\u001b[49m\n\u001b[1;32m      4\u001b[0m \u001b[43m    \u001b[49m\u001b[43msampling_type\u001b[49m\u001b[38;5;241;43m=\u001b[39;49m\u001b[38;5;124;43m\"\u001b[39;49m\u001b[38;5;124;43mlocal\u001b[39;49m\u001b[38;5;124;43m\"\u001b[39;49m\u001b[43m,\u001b[49m\n\u001b[1;32m      5\u001b[0m \u001b[43m    \u001b[49m\u001b[43munits\u001b[49m\u001b[38;5;241;43m=\u001b[39;49m\u001b[38;5;124;43m\"\u001b[39;49m\u001b[38;5;124;43mK\u001b[39;49m\u001b[38;5;124;43m\"\u001b[39;49m\u001b[43m,\u001b[49m\n\u001b[1;32m      6\u001b[0m \u001b[43mforce_override\u001b[49m\u001b[43m \u001b[49m\u001b[38;5;241;43m=\u001b[39;49m\u001b[43m \u001b[49m\u001b[38;5;28;43;01mTrue\u001b[39;49;00m\u001b[43m)\u001b[49m\n",
      "File \u001b[0;32m~/.local/lib/python3.11/site-packages/yt/data_objects/static_output.py:1763\u001b[0m, in \u001b[0;36mDataset.add_field\u001b[0;34m(self, name, function, sampling_type, force_override, **kwargs)\u001b[0m\n\u001b[1;32m   1725\u001b[0m \u001b[38;5;250m\u001b[39m\u001b[38;5;124;03m\"\"\"\u001b[39;00m\n\u001b[1;32m   1726\u001b[0m \u001b[38;5;124;03mDataset-specific call to add_field\u001b[39;00m\n\u001b[1;32m   1727\u001b[0m \n\u001b[0;32m   (...)\u001b[0m\n\u001b[1;32m   1759\u001b[0m \n\u001b[1;32m   1760\u001b[0m \u001b[38;5;124;03m\"\"\"\u001b[39;00m\n\u001b[1;32m   1761\u001b[0m \u001b[38;5;28;01mfrom\u001b[39;00m \u001b[38;5;21;01myt\u001b[39;00m\u001b[38;5;21;01m.\u001b[39;00m\u001b[38;5;21;01mfields\u001b[39;00m\u001b[38;5;21;01m.\u001b[39;00m\u001b[38;5;21;01mfield_functions\u001b[39;00m \u001b[38;5;28;01mimport\u001b[39;00m validate_field_function\n\u001b[0;32m-> 1763\u001b[0m \u001b[43mvalidate_field_function\u001b[49m\u001b[43m(\u001b[49m\u001b[43mfunction\u001b[49m\u001b[43m)\u001b[49m\n\u001b[1;32m   1764\u001b[0m \u001b[38;5;28mself\u001b[39m\u001b[38;5;241m.\u001b[39mindex\n\u001b[1;32m   1765\u001b[0m \u001b[38;5;28;01mif\u001b[39;00m force_override \u001b[38;5;129;01mand\u001b[39;00m name \u001b[38;5;129;01min\u001b[39;00m \u001b[38;5;28mself\u001b[39m\u001b[38;5;241m.\u001b[39mindex\u001b[38;5;241m.\u001b[39mfield_list:\n",
      "File \u001b[0;32m~/.local/lib/python3.11/site-packages/yt/fields/field_functions.py:89\u001b[0m, in \u001b[0;36mvalidate_field_function\u001b[0;34m(function)\u001b[0m\n\u001b[1;32m     79\u001b[0m \u001b[38;5;250m\u001b[39m\u001b[38;5;124;03m\"\"\"\u001b[39;00m\n\u001b[1;32m     80\u001b[0m \u001b[38;5;124;03mInspect signature, raise a TypeError if invalid, return None otherwise.\u001b[39;00m\n\u001b[1;32m     81\u001b[0m \u001b[38;5;124;03m\"\"\"\u001b[39;00m\n\u001b[1;32m     82\u001b[0m \u001b[38;5;66;03m# This is a helper function to user-intended field registration methods\u001b[39;00m\n\u001b[1;32m     83\u001b[0m \u001b[38;5;66;03m# (e.g. Dataset.add_field and yt.derived_field)\u001b[39;00m\n\u001b[1;32m     84\u001b[0m \u001b[38;5;66;03m# it is not used in FieldInfoContainer.add_field to optimize performance\u001b[39;00m\n\u001b[0;32m   (...)\u001b[0m\n\u001b[1;32m     87\u001b[0m \n\u001b[1;32m     88\u001b[0m \u001b[38;5;66;03m# lookup parameters that do not have default values\u001b[39;00m\n\u001b[0;32m---> 89\u001b[0m fparams \u001b[38;5;241m=\u001b[39m \u001b[43msignature\u001b[49m\u001b[43m(\u001b[49m\u001b[43mfunction\u001b[49m\u001b[43m)\u001b[49m\u001b[38;5;241m.\u001b[39mparameters\n\u001b[1;32m     90\u001b[0m nodefaults \u001b[38;5;241m=\u001b[39m \u001b[38;5;28mtuple\u001b[39m(p\u001b[38;5;241m.\u001b[39mname \u001b[38;5;28;01mfor\u001b[39;00m p \u001b[38;5;129;01min\u001b[39;00m fparams\u001b[38;5;241m.\u001b[39mvalues() \u001b[38;5;28;01mif\u001b[39;00m p\u001b[38;5;241m.\u001b[39mdefault \u001b[38;5;129;01mis\u001b[39;00m p\u001b[38;5;241m.\u001b[39mempty)\n\u001b[1;32m     91\u001b[0m \u001b[38;5;28;01mif\u001b[39;00m nodefaults \u001b[38;5;241m!=\u001b[39m (\u001b[38;5;124m\"\u001b[39m\u001b[38;5;124mfield\u001b[39m\u001b[38;5;124m\"\u001b[39m, \u001b[38;5;124m\"\u001b[39m\u001b[38;5;124mdata\u001b[39m\u001b[38;5;124m\"\u001b[39m):\n",
      "File \u001b[0;32m/modules/apps/ood/jupyterlab-matlab/lib/python3.11/inspect.py:3272\u001b[0m, in \u001b[0;36msignature\u001b[0;34m(obj, follow_wrapped, globals, locals, eval_str)\u001b[0m\n\u001b[1;32m   3270\u001b[0m \u001b[38;5;28;01mdef\u001b[39;00m \u001b[38;5;21msignature\u001b[39m(obj, \u001b[38;5;241m*\u001b[39m, follow_wrapped\u001b[38;5;241m=\u001b[39m\u001b[38;5;28;01mTrue\u001b[39;00m, \u001b[38;5;28mglobals\u001b[39m\u001b[38;5;241m=\u001b[39m\u001b[38;5;28;01mNone\u001b[39;00m, \u001b[38;5;28mlocals\u001b[39m\u001b[38;5;241m=\u001b[39m\u001b[38;5;28;01mNone\u001b[39;00m, eval_str\u001b[38;5;241m=\u001b[39m\u001b[38;5;28;01mFalse\u001b[39;00m):\n\u001b[1;32m   3271\u001b[0m \u001b[38;5;250m    \u001b[39m\u001b[38;5;124;03m\"\"\"Get a signature object for the passed callable.\"\"\"\u001b[39;00m\n\u001b[0;32m-> 3272\u001b[0m     \u001b[38;5;28;01mreturn\u001b[39;00m \u001b[43mSignature\u001b[49m\u001b[38;5;241;43m.\u001b[39;49m\u001b[43mfrom_callable\u001b[49m\u001b[43m(\u001b[49m\u001b[43mobj\u001b[49m\u001b[43m,\u001b[49m\u001b[43m \u001b[49m\u001b[43mfollow_wrapped\u001b[49m\u001b[38;5;241;43m=\u001b[39;49m\u001b[43mfollow_wrapped\u001b[49m\u001b[43m,\u001b[49m\n\u001b[1;32m   3273\u001b[0m \u001b[43m                                   \u001b[49m\u001b[38;5;28;43mglobals\u001b[39;49m\u001b[38;5;241;43m=\u001b[39;49m\u001b[38;5;28;43mglobals\u001b[39;49m\u001b[43m,\u001b[49m\u001b[43m \u001b[49m\u001b[38;5;28;43mlocals\u001b[39;49m\u001b[38;5;241;43m=\u001b[39;49m\u001b[38;5;28;43mlocals\u001b[39;49m\u001b[43m,\u001b[49m\u001b[43m \u001b[49m\u001b[43meval_str\u001b[49m\u001b[38;5;241;43m=\u001b[39;49m\u001b[43meval_str\u001b[49m\u001b[43m)\u001b[49m\n",
      "File \u001b[0;32m/modules/apps/ood/jupyterlab-matlab/lib/python3.11/inspect.py:3020\u001b[0m, in \u001b[0;36mSignature.from_callable\u001b[0;34m(cls, obj, follow_wrapped, globals, locals, eval_str)\u001b[0m\n\u001b[1;32m   3016\u001b[0m \u001b[38;5;129m@classmethod\u001b[39m\n\u001b[1;32m   3017\u001b[0m \u001b[38;5;28;01mdef\u001b[39;00m \u001b[38;5;21mfrom_callable\u001b[39m(\u001b[38;5;28mcls\u001b[39m, obj, \u001b[38;5;241m*\u001b[39m,\n\u001b[1;32m   3018\u001b[0m                   follow_wrapped\u001b[38;5;241m=\u001b[39m\u001b[38;5;28;01mTrue\u001b[39;00m, \u001b[38;5;28mglobals\u001b[39m\u001b[38;5;241m=\u001b[39m\u001b[38;5;28;01mNone\u001b[39;00m, \u001b[38;5;28mlocals\u001b[39m\u001b[38;5;241m=\u001b[39m\u001b[38;5;28;01mNone\u001b[39;00m, eval_str\u001b[38;5;241m=\u001b[39m\u001b[38;5;28;01mFalse\u001b[39;00m):\n\u001b[1;32m   3019\u001b[0m \u001b[38;5;250m    \u001b[39m\u001b[38;5;124;03m\"\"\"Constructs Signature for the given callable object.\"\"\"\u001b[39;00m\n\u001b[0;32m-> 3020\u001b[0m     \u001b[38;5;28;01mreturn\u001b[39;00m \u001b[43m_signature_from_callable\u001b[49m\u001b[43m(\u001b[49m\u001b[43mobj\u001b[49m\u001b[43m,\u001b[49m\u001b[43m \u001b[49m\u001b[43msigcls\u001b[49m\u001b[38;5;241;43m=\u001b[39;49m\u001b[38;5;28;43mcls\u001b[39;49m\u001b[43m,\u001b[49m\n\u001b[1;32m   3021\u001b[0m \u001b[43m                                    \u001b[49m\u001b[43mfollow_wrapper_chains\u001b[49m\u001b[38;5;241;43m=\u001b[39;49m\u001b[43mfollow_wrapped\u001b[49m\u001b[43m,\u001b[49m\n\u001b[1;32m   3022\u001b[0m \u001b[43m                                    \u001b[49m\u001b[38;5;28;43mglobals\u001b[39;49m\u001b[38;5;241;43m=\u001b[39;49m\u001b[38;5;28;43mglobals\u001b[39;49m\u001b[43m,\u001b[49m\u001b[43m \u001b[49m\u001b[38;5;28;43mlocals\u001b[39;49m\u001b[38;5;241;43m=\u001b[39;49m\u001b[38;5;28;43mlocals\u001b[39;49m\u001b[43m,\u001b[49m\u001b[43m \u001b[49m\u001b[43meval_str\u001b[49m\u001b[38;5;241;43m=\u001b[39;49m\u001b[43meval_str\u001b[49m\u001b[43m)\u001b[49m\n",
      "File \u001b[0;32m/modules/apps/ood/jupyterlab-matlab/lib/python3.11/inspect.py:2443\u001b[0m, in \u001b[0;36m_signature_from_callable\u001b[0;34m(obj, follow_wrapper_chains, skip_bound_arg, globals, locals, eval_str, sigcls)\u001b[0m\n\u001b[1;32m   2434\u001b[0m _get_signature_of \u001b[38;5;241m=\u001b[39m functools\u001b[38;5;241m.\u001b[39mpartial(_signature_from_callable,\n\u001b[1;32m   2435\u001b[0m                             follow_wrapper_chains\u001b[38;5;241m=\u001b[39mfollow_wrapper_chains,\n\u001b[1;32m   2436\u001b[0m                             skip_bound_arg\u001b[38;5;241m=\u001b[39mskip_bound_arg,\n\u001b[0;32m   (...)\u001b[0m\n\u001b[1;32m   2439\u001b[0m                             sigcls\u001b[38;5;241m=\u001b[39msigcls,\n\u001b[1;32m   2440\u001b[0m                             eval_str\u001b[38;5;241m=\u001b[39meval_str)\n\u001b[1;32m   2442\u001b[0m \u001b[38;5;28;01mif\u001b[39;00m \u001b[38;5;129;01mnot\u001b[39;00m callable(obj):\n\u001b[0;32m-> 2443\u001b[0m     \u001b[38;5;28;01mraise\u001b[39;00m \u001b[38;5;167;01mTypeError\u001b[39;00m(\u001b[38;5;124m'\u001b[39m\u001b[38;5;132;01m{!r}\u001b[39;00m\u001b[38;5;124m is not a callable object\u001b[39m\u001b[38;5;124m'\u001b[39m\u001b[38;5;241m.\u001b[39mformat(obj))\n\u001b[1;32m   2445\u001b[0m \u001b[38;5;28;01mif\u001b[39;00m \u001b[38;5;28misinstance\u001b[39m(obj, types\u001b[38;5;241m.\u001b[39mMethodType):\n\u001b[1;32m   2446\u001b[0m     \u001b[38;5;66;03m# In this case we skip the first parameter of the underlying\u001b[39;00m\n\u001b[1;32m   2447\u001b[0m     \u001b[38;5;66;03m# function (usually `self` or `cls`).\u001b[39;00m\n\u001b[1;32m   2448\u001b[0m     sig \u001b[38;5;241m=\u001b[39m _get_signature_of(obj\u001b[38;5;241m.\u001b[39m\u001b[38;5;18m__func__\u001b[39m)\n",
      "\u001b[0;31mTypeError\u001b[0m: 0.025 is not a callable object"
     ]
    }
   ],
   "source": [
    "def temp(r,r_0,t):\n",
    "    temp = t(r_0/r)**a\n",
    "ds.add_field(\n",
    "    (\"gas\", \"temperature\"),\n",
    "    function=\n",
    "    sampling_type=\"local\",\n",
    "    units=\"K\",\n",
    "force_override = True)"
   ]
  },
  {
   "cell_type": "code",
   "execution_count": 75,
   "id": "6b8e865b-4df3-4fea-a369-d237b4f89a48",
   "metadata": {},
   "outputs": [
    {
     "name": "stderr",
     "output_type": "stream",
     "text": [
      "pyxsim : [INFO     ] 2024-08-05 20:21:56,060 kT_min = 0.025 keV\n",
      "pyxsim : [INFO     ] 2024-08-05 20:21:56,061 kT_max = 64 keV\n"
     ]
    }
   ],
   "source": [
    "source_model = pyxsim.CIESourceModel(\"apec\", 1.0, 10.0, 6000, Zmet = 3)"
   ]
  },
  {
   "cell_type": "code",
   "execution_count": 76,
   "id": "a09b19e8-a171-4330-aa23-d1d4ca2e3f8a",
   "metadata": {},
   "outputs": [],
   "source": [
    "exp_time = (2000.0, \"ks\") #shorter exposure time because my computer has no memory.\n",
    "area = (1500.0, \"cm**2\") \n",
    "redshift = 0 # its zero at first because it is local but I believe later I will be adding redshift.\n",
    "dist = (8.18, \"kpc\")"
   ]
  },
  {
   "cell_type": "code",
   "execution_count": 77,
   "id": "3f690cbb-7ddd-45fe-b826-b6336acef9e6",
   "metadata": {},
   "outputs": [],
   "source": [
    "sp = ds.sphere(\"c\", (1.0, \"pc\"))"
   ]
  },
  {
   "cell_type": "code",
   "execution_count": 78,
   "id": "dd3eac4c-d913-4848-8002-bdedf9543f5c",
   "metadata": {},
   "outputs": [
    {
     "name": "stderr",
     "output_type": "stream",
     "text": [
      "pyxsim : [INFO     ] 2024-08-05 20:22:00,730 Observing local source at distance 8.18.\n"
     ]
    },
    {
     "ename": "YTFieldNotFound",
     "evalue": "Could not find field ('gas', 'temperature') in UniformGridData.",
     "output_type": "error",
     "traceback": [
      "\u001b[0;31m---------------------------------------------------------------------------\u001b[0m",
      "\u001b[0;31mYTFieldNotFound\u001b[0m                           Traceback (most recent call last)",
      "Cell \u001b[0;32mIn[78], line 1\u001b[0m\n\u001b[0;32m----> 1\u001b[0m n_photons, n_cells \u001b[38;5;241m=\u001b[39m \u001b[43mpyxsim\u001b[49m\u001b[38;5;241;43m.\u001b[39;49m\u001b[43mmake_photons\u001b[49m\u001b[43m(\u001b[49m\u001b[38;5;124;43m\"\u001b[39;49m\u001b[38;5;124;43mbulge_test\u001b[39;49m\u001b[38;5;124;43m\"\u001b[39;49m\u001b[43m,\u001b[49m\u001b[43m \u001b[49m\u001b[43msp\u001b[49m\u001b[43m,\u001b[49m\u001b[43m \u001b[49m\u001b[43mredshift\u001b[49m\u001b[43m,\u001b[49m\u001b[43marea\u001b[49m\u001b[43m,\u001b[49m\u001b[43m \u001b[49m\u001b[43mexp_time\u001b[49m\u001b[43m,\u001b[49m\u001b[43m \u001b[49m\u001b[43msource_model\u001b[49m\u001b[43m,\u001b[49m\u001b[43m \u001b[49m\u001b[43mdist\u001b[49m\u001b[43m \u001b[49m\u001b[38;5;241;43m=\u001b[39;49m\u001b[43m \u001b[49m\u001b[43mdist\u001b[49m\u001b[43m)\u001b[49m\n",
      "File \u001b[0;32m/work/pi_wqd_umass_edu/pyxsim/pyxsim/photon_list.py:320\u001b[0m, in \u001b[0;36mmake_photons\u001b[0;34m(photon_prefix, data_source, redshift, area, exp_time, source_model, point_sources, parameters, center, dist, cosmology, velocity_fields, bulk_velocity, observer, fields_to_keep)\u001b[0m\n\u001b[1;32m    317\u001b[0m le, re \u001b[38;5;241m=\u001b[39m find_object_bounds(data_source)\n\u001b[1;32m    318\u001b[0m c \u001b[38;5;241m=\u001b[39m parameters[\u001b[38;5;124m\"\u001b[39m\u001b[38;5;124mcenter\u001b[39m\u001b[38;5;124m\"\u001b[39m]\u001b[38;5;241m.\u001b[39mto_value(\u001b[38;5;124m\"\u001b[39m\u001b[38;5;124mkpc\u001b[39m\u001b[38;5;124m\"\u001b[39m)\n\u001b[0;32m--> 320\u001b[0m \u001b[43msource_model\u001b[49m\u001b[38;5;241;43m.\u001b[39;49m\u001b[43msetup_model\u001b[49m\u001b[43m(\u001b[49m\u001b[38;5;124;43m\"\u001b[39;49m\u001b[38;5;124;43mphotons\u001b[39;49m\u001b[38;5;124;43m\"\u001b[39;49m\u001b[43m,\u001b[49m\u001b[43m \u001b[49m\u001b[43mdata_source\u001b[49m\u001b[43m,\u001b[49m\u001b[43m \u001b[49m\u001b[43mredshift\u001b[49m\u001b[43m)\u001b[49m\n\u001b[1;32m    322\u001b[0m p_fields, v_fields, w_field \u001b[38;5;241m=\u001b[39m determine_fields(\n\u001b[1;32m    323\u001b[0m     ds, source_model\u001b[38;5;241m.\u001b[39mftype, point_sources\n\u001b[1;32m    324\u001b[0m )\n\u001b[1;32m    326\u001b[0m \u001b[38;5;28;01mif\u001b[39;00m velocity_fields \u001b[38;5;129;01mis\u001b[39;00m \u001b[38;5;129;01mnot\u001b[39;00m \u001b[38;5;28;01mNone\u001b[39;00m:\n",
      "File \u001b[0;32m/work/pi_wqd_umass_edu/pyxsim/pyxsim/source_models/thermal_sources.py:155\u001b[0m, in \u001b[0;36mThermalSourceModel.setup_model\u001b[0;34m(self, mode, data_source, redshift)\u001b[0m\n\u001b[1;32m    147\u001b[0m \u001b[38;5;28;01mexcept\u001b[39;00m YTFieldNotFound:\n\u001b[1;32m    148\u001b[0m     \u001b[38;5;28;01mraise\u001b[39;00m \u001b[38;5;167;01mRuntimeError\u001b[39;00m(\n\u001b[1;32m    149\u001b[0m         \u001b[38;5;124mf\u001b[39m\u001b[38;5;124m\"\u001b[39m\u001b[38;5;124mThe \u001b[39m\u001b[38;5;132;01m{\u001b[39;00m\u001b[38;5;28mself\u001b[39m\u001b[38;5;241m.\u001b[39memission_measure_field\u001b[38;5;132;01m}\u001b[39;00m\u001b[38;5;124m field is not \u001b[39m\u001b[38;5;124m\"\u001b[39m\n\u001b[1;32m    150\u001b[0m         \u001b[38;5;124m\"\u001b[39m\u001b[38;5;124mfound. If you do not have species fields in \u001b[39m\u001b[38;5;124m\"\u001b[39m\n\u001b[0;32m   (...)\u001b[0m\n\u001b[1;32m    153\u001b[0m         \u001b[38;5;124m\"\u001b[39m\u001b[38;5;124mto yt.load().\u001b[39m\u001b[38;5;124m\"\u001b[39m\n\u001b[1;32m    154\u001b[0m     )\n\u001b[0;32m--> 155\u001b[0m \u001b[38;5;28mself\u001b[39m\u001b[38;5;241m.\u001b[39mtemperature_field \u001b[38;5;241m=\u001b[39m \u001b[43mds\u001b[49m\u001b[38;5;241;43m.\u001b[39;49m\u001b[43m_get_field_info\u001b[49m\u001b[43m(\u001b[49m\u001b[38;5;28;43mself\u001b[39;49m\u001b[38;5;241;43m.\u001b[39;49m\u001b[43mtemperature_field\u001b[49m\u001b[43m)\u001b[49m\u001b[38;5;241m.\u001b[39mname\n\u001b[1;32m    156\u001b[0m fields \u001b[38;5;241m=\u001b[39m [\u001b[38;5;28mself\u001b[39m\u001b[38;5;241m.\u001b[39memission_measure_field, \u001b[38;5;28mself\u001b[39m\u001b[38;5;241m.\u001b[39mtemperature_field]\n\u001b[1;32m    157\u001b[0m \u001b[38;5;28mself\u001b[39m\u001b[38;5;241m.\u001b[39mftype \u001b[38;5;241m=\u001b[39m ftype\n",
      "File \u001b[0;32m~/.local/lib/python3.11/site-packages/yt/data_objects/static_output.py:957\u001b[0m, in \u001b[0;36mDataset._get_field_info\u001b[0;34m(self, field)\u001b[0m\n\u001b[1;32m    952\u001b[0m \u001b[38;5;28;01mdef\u001b[39;00m \u001b[38;5;21m_get_field_info\u001b[39m(\n\u001b[1;32m    953\u001b[0m     \u001b[38;5;28mself\u001b[39m,\n\u001b[1;32m    954\u001b[0m     field: Union[FieldKey, ImplicitFieldKey, DerivedField],\n\u001b[1;32m    955\u001b[0m     \u001b[38;5;241m/\u001b[39m,\n\u001b[1;32m    956\u001b[0m ) \u001b[38;5;241m-\u001b[39m\u001b[38;5;241m>\u001b[39m DerivedField:\n\u001b[0;32m--> 957\u001b[0m     field_info, candidates \u001b[38;5;241m=\u001b[39m \u001b[38;5;28;43mself\u001b[39;49m\u001b[38;5;241;43m.\u001b[39;49m\u001b[43m_get_field_info_helper\u001b[49m\u001b[43m(\u001b[49m\u001b[43mfield\u001b[49m\u001b[43m)\u001b[49m\n\u001b[1;32m    959\u001b[0m     \u001b[38;5;28;01mif\u001b[39;00m field_info\u001b[38;5;241m.\u001b[39mname[\u001b[38;5;241m1\u001b[39m] \u001b[38;5;129;01min\u001b[39;00m (\u001b[38;5;124m\"\u001b[39m\u001b[38;5;124mpx\u001b[39m\u001b[38;5;124m\"\u001b[39m, \u001b[38;5;124m\"\u001b[39m\u001b[38;5;124mpy\u001b[39m\u001b[38;5;124m\"\u001b[39m, \u001b[38;5;124m\"\u001b[39m\u001b[38;5;124mpz\u001b[39m\u001b[38;5;124m\"\u001b[39m, \u001b[38;5;124m\"\u001b[39m\u001b[38;5;124mpdx\u001b[39m\u001b[38;5;124m\"\u001b[39m, \u001b[38;5;124m\"\u001b[39m\u001b[38;5;124mpdy\u001b[39m\u001b[38;5;124m\"\u001b[39m, \u001b[38;5;124m\"\u001b[39m\u001b[38;5;124mpdz\u001b[39m\u001b[38;5;124m\"\u001b[39m):\n\u001b[1;32m    960\u001b[0m         \u001b[38;5;66;03m# escape early as a bandaid solution to\u001b[39;00m\n\u001b[1;32m    961\u001b[0m         \u001b[38;5;66;03m# https://github.com/yt-project/yt/issues/3381\u001b[39;00m\n\u001b[1;32m    962\u001b[0m         \u001b[38;5;28;01mreturn\u001b[39;00m field_info\n",
      "File \u001b[0;32m~/.local/lib/python3.11/site-packages/yt/data_objects/static_output.py:1050\u001b[0m, in \u001b[0;36mDataset._get_field_info_helper\u001b[0;34m(self, field)\u001b[0m\n\u001b[1;32m   1047\u001b[0m \u001b[38;5;28;01melif\u001b[39;00m (ftype, fname) \u001b[38;5;129;01min\u001b[39;00m \u001b[38;5;28mself\u001b[39m\u001b[38;5;241m.\u001b[39mfield_info:\n\u001b[1;32m   1048\u001b[0m     \u001b[38;5;28;01mreturn\u001b[39;00m \u001b[38;5;28mself\u001b[39m\u001b[38;5;241m.\u001b[39mfield_info[ftype, fname], []\n\u001b[0;32m-> 1050\u001b[0m \u001b[38;5;28;01mraise\u001b[39;00m YTFieldNotFound(field, ds\u001b[38;5;241m=\u001b[39m\u001b[38;5;28mself\u001b[39m)\n",
      "\u001b[0;31mYTFieldNotFound\u001b[0m: Could not find field ('gas', 'temperature') in UniformGridData."
     ]
    }
   ],
   "source": [
    "n_photons, n_cells = pyxsim.make_photons(\"bulge_test\", sp, redshift,area, exp_time, source_model, dist = dist)"
   ]
  },
  {
   "cell_type": "code",
   "execution_count": null,
   "id": "b2521441-25c5-40c2-9585-eb9f292b9ecf",
   "metadata": {},
   "outputs": [],
   "source": [
    "L = [ 0.91354546, 0.15236623,  -0.37711965]\n",
    "North_vector = [3.74606593e-01,  -9.27183855e-01, 3.74606593e-01]\n",
    "n_events = pyxsim.project_photons(\"my_photonstestMHD15m2Ms\", \"my_photonstestMHD_REVabs_dp15m2Ms\",L ,(266.42, -29),nH = 11,\n",
    "                                  absorb_model = \"tbabs\", no_shifting = False, north_vector = North_vector, column_file = \"internal_abs_REV.h5\")"
   ]
  },
  {
   "cell_type": "code",
   "execution_count": null,
   "id": "5098242b-eee3-42fb-b46b-960abf1e6358",
   "metadata": {},
   "outputs": [],
   "source": [
    "events = pyxsim.EventList(\"no_abs_my_photonstestMHD_REVabs_dp15m2Ms.h5\")\n",
    "events.write_to_simput(\"No_REVabsorption_MHD_dp15m2Ms\", overwrite = True)"
   ]
  }
 ],
 "metadata": {
  "kernelspec": {
   "display_name": "Python 3 (ipykernel)",
   "language": "python",
   "name": "python3"
  },
  "language_info": {
   "codemirror_mode": {
    "name": "ipython",
    "version": 3
   },
   "file_extension": ".py",
   "mimetype": "text/x-python",
   "name": "python",
   "nbconvert_exporter": "python",
   "pygments_lexer": "ipython3",
   "version": "3.11.0"
  }
 },
 "nbformat": 4,
 "nbformat_minor": 5
}
