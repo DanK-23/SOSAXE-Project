{
 "cells": [
  {
   "cell_type": "code",
   "execution_count": 4,
   "id": "f0f4ec69-8920-4525-83c4-be6d2a847cab",
   "metadata": {},
   "outputs": [
    {
     "name": "stdout",
     "output_type": "stream",
     "text": [
      "/work/pi_wqd_umass_edu/pyxsim\n"
     ]
    }
   ],
   "source": [
    "%cd /work/pi_wqd_umass_edu/pyxsim"
   ]
  },
  {
   "cell_type": "code",
   "execution_count": 5,
   "id": "dbd84f87-0a3e-4327-8227-448f9a17866e",
   "metadata": {},
   "outputs": [],
   "source": [
    "import yt\n",
    "import pyxsim\n",
    "import re\n",
    "import struct\n",
    "import sys\n",
    "import warnings\n",
    "from io import open\n",
    "import h5py\n",
    "import astropy\n",
    "from matplotlib.colors import LogNorm\n",
    "from astropy.wcs import WCS\n",
    "from astropy.io import fits\n",
    "from scipy.ndimage import rotate\n",
    "from astropy import wcs\n",
    "import astropy.units as u\n",
    "from pprint import pprint"
   ]
  },
  {
   "cell_type": "code",
   "execution_count": 6,
   "id": "acd885d5-a058-4238-900f-72335ede0d02",
   "metadata": {},
   "outputs": [],
   "source": [
    "import numpy as np\n",
    "import matplotlib.pyplot as plt\n",
    "import astropy.io.fits as pyfits\n",
    "import matplotlib\n",
    "import soxs\n",
    "matplotlib.rc('font', size = 18)"
   ]
  },
  {
   "cell_type": "code",
   "execution_count": 7,
   "id": "3db9897a-6116-49ad-af57-5d52a530db69",
   "metadata": {},
   "outputs": [],
   "source": [
    "M_NSC = 6.1e7\n",
    "q = .73\n",
    "a = 147.6\n",
    "a_0 = 147.6"
   ]
  },
  {
   "cell_type": "code",
   "execution_count": 12,
   "id": "aa52dd0c-e085-46f2-bbc4-e091168b3481",
   "metadata": {},
   "outputs": [],
   "source": [
    "def density_function(M_NSC, q, a_0, a):\n",
    "    density = ((3-y)*M_NSC / (4 * np.pi * q)) * (a_0 / a**y*(a+a_0)**(4-y))\n",
    "    return density"
   ]
  },
  {
   "cell_type": "code",
   "execution_count": 10,
   "id": "5202cf3e-398f-4969-912f-49d81b4bb342",
   "metadata": {},
   "outputs": [],
   "source": [
    "grid_size = (128,128,128)\n",
    "x = np.linspace(-1, 1, grid_size[0])\n",
    "y = np.linspace(-1, 1, grid_size[1])\n",
    "z = np.linspace(-1, 1, grid_size[2])\n",
    "X, Y, Z = np.meshgrid(x, y, z, indexing='ij')"
   ]
  },
  {
   "cell_type": "code",
   "execution_count": 14,
   "id": "a7c92f3b-d351-4383-b9de-63982028070d",
   "metadata": {},
   "outputs": [
    {
     "name": "stderr",
     "output_type": "stream",
     "text": [
      "yt : [INFO     ] 2024-08-05 15:22:42,752 Parameters: current_time              = 0.0\n",
      "yt : [INFO     ] 2024-08-05 15:22:42,752 Parameters: domain_dimensions         = [128 128 128]\n",
      "yt : [INFO     ] 2024-08-05 15:22:42,753 Parameters: domain_left_edge          = [-1. -1. -1.]\n",
      "yt : [INFO     ] 2024-08-05 15:22:42,754 Parameters: domain_right_edge         = [1. 1. 1.]\n",
      "yt : [INFO     ] 2024-08-05 15:22:42,755 Parameters: cosmological_simulation   = 0\n"
     ]
    },
    {
     "ename": "TypeError",
     "evalue": "'<' not supported between instances of 'tuple' and 'str'",
     "output_type": "error",
     "traceback": [
      "\u001b[0;31m---------------------------------------------------------------------------\u001b[0m",
      "\u001b[0;31mTypeError\u001b[0m                                 Traceback (most recent call last)",
      "Cell \u001b[0;32mIn[14], line 11\u001b[0m\n\u001b[1;32m      8\u001b[0m bbox \u001b[38;5;241m=\u001b[39m np\u001b[38;5;241m.\u001b[39marray([[\u001b[38;5;241m-\u001b[39m\u001b[38;5;241m1\u001b[39m, \u001b[38;5;241m1\u001b[39m], [\u001b[38;5;241m-\u001b[39m\u001b[38;5;241m1\u001b[39m, \u001b[38;5;241m1\u001b[39m], [\u001b[38;5;241m-\u001b[39m\u001b[38;5;241m1\u001b[39m, \u001b[38;5;241m1\u001b[39m]])\n\u001b[1;32m     10\u001b[0m \u001b[38;5;66;03m# Load the grid into yt\u001b[39;00m\n\u001b[0;32m---> 11\u001b[0m ds \u001b[38;5;241m=\u001b[39m \u001b[43myt\u001b[49m\u001b[38;5;241;43m.\u001b[39;49m\u001b[43mload_uniform_grid\u001b[49m\u001b[43m(\u001b[49m\u001b[43mdata\u001b[49m\u001b[43m,\u001b[49m\u001b[43m \u001b[49m\u001b[43mdomain_dimensions\u001b[49m\u001b[43m,\u001b[49m\u001b[43m \u001b[49m\u001b[43mbbox\u001b[49m\u001b[38;5;241;43m=\u001b[39;49m\u001b[43mbbox\u001b[49m\u001b[43m,\u001b[49m\u001b[43mdefault_species_fields\u001b[49m\u001b[38;5;241;43m=\u001b[39;49m\u001b[38;5;124;43m\"\u001b[39;49m\u001b[38;5;124;43mionized\u001b[39;49m\u001b[38;5;124;43m\"\u001b[39;49m\u001b[43m)\u001b[49m\n",
      "File \u001b[0;32m~/.local/lib/python3.11/site-packages/yt/loaders.py:440\u001b[0m, in \u001b[0;36mload_uniform_grid\u001b[0;34m(data, domain_dimensions, length_unit, bbox, nprocs, sim_time, mass_unit, time_unit, velocity_unit, magnetic_unit, periodicity, geometry, unit_system, default_species_fields, axis_order, cell_widths, parameters, dataset_name)\u001b[0m\n\u001b[1;32m    437\u001b[0m \u001b[38;5;66;03m# Now figure out where the particles go\u001b[39;00m\n\u001b[1;32m    438\u001b[0m \u001b[38;5;28;01mif\u001b[39;00m number_of_particles \u001b[38;5;241m>\u001b[39m \u001b[38;5;241m0\u001b[39m:\n\u001b[1;32m    439\u001b[0m     \u001b[38;5;66;03m# This will update the stream handler too\u001b[39;00m\n\u001b[0;32m--> 440\u001b[0m     \u001b[43massign_particle_data\u001b[49m\u001b[43m(\u001b[49m\u001b[43msds\u001b[49m\u001b[43m,\u001b[49m\u001b[43m \u001b[49m\u001b[43mpdata\u001b[49m\u001b[43m,\u001b[49m\u001b[43m \u001b[49m\u001b[43mbbox\u001b[49m\u001b[43m)\u001b[49m\n\u001b[1;32m    442\u001b[0m \u001b[38;5;28;01mreturn\u001b[39;00m sds\n",
      "File \u001b[0;32m~/.local/lib/python3.11/site-packages/yt/frontends/stream/definitions.py:31\u001b[0m, in \u001b[0;36massign_particle_data\u001b[0;34m(ds, pdata, bbox)\u001b[0m\n\u001b[1;32m     29\u001b[0m \u001b[38;5;28;01mif\u001b[39;00m \u001b[38;5;28mall\u001b[39m(f \u001b[38;5;129;01mnot\u001b[39;00m \u001b[38;5;129;01min\u001b[39;00m pdata \u001b[38;5;28;01mfor\u001b[39;00m f \u001b[38;5;129;01min\u001b[39;00m check_fields):\n\u001b[1;32m     30\u001b[0m     pdata_ftype \u001b[38;5;241m=\u001b[39m {}\n\u001b[0;32m---> 31\u001b[0m     \u001b[38;5;28;01mfor\u001b[39;00m f \u001b[38;5;129;01min\u001b[39;00m \u001b[38;5;28;43msorted\u001b[39;49m\u001b[43m(\u001b[49m\u001b[43mpdata\u001b[49m\u001b[43m)\u001b[49m:\n\u001b[1;32m     32\u001b[0m         \u001b[38;5;28;01mif\u001b[39;00m \u001b[38;5;129;01mnot\u001b[39;00m \u001b[38;5;28mhasattr\u001b[39m(pdata[f], \u001b[38;5;124m\"\u001b[39m\u001b[38;5;124mshape\u001b[39m\u001b[38;5;124m\"\u001b[39m):\n\u001b[1;32m     33\u001b[0m             \u001b[38;5;28;01mcontinue\u001b[39;00m\n",
      "\u001b[0;31mTypeError\u001b[0m: '<' not supported between instances of 'tuple' and 'str'"
     ]
    }
   ],
   "source": [
    "density = density_function(M_NSC, q, a_0, a)\n",
    "\n",
    "# Create a dictionary for the data\n",
    "data = {'density': density}\n",
    "\n",
    "# Define the domain dimensions\n",
    "domain_dimensions = grid_size\n",
    "bbox = np.array([[-1, 1], [-1, 1], [-1, 1]])\n",
    "\n",
    "# Load the grid into yt\n",
    "ds = yt.load_uniform_grid(data, domain_dimensions, bbox=bbox,default_species_fields=\"ionized\")"
   ]
  },
  {
   "cell_type": "code",
   "execution_count": null,
   "id": "8ae2b23d-173e-4933-87cf-ebc9c5944177",
   "metadata": {},
   "outputs": [],
   "source": []
  }
 ],
 "metadata": {
  "kernelspec": {
   "display_name": "Python 3 (ipykernel)",
   "language": "python",
   "name": "python3"
  },
  "language_info": {
   "codemirror_mode": {
    "name": "ipython",
    "version": 3
   },
   "file_extension": ".py",
   "mimetype": "text/x-python",
   "name": "python",
   "nbconvert_exporter": "python",
   "pygments_lexer": "ipython3",
   "version": "3.11.0"
  }
 },
 "nbformat": 4,
 "nbformat_minor": 5
}
